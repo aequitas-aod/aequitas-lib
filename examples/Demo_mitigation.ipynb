{
 "cells": [
  {
   "cell_type": "markdown",
   "metadata": {},
   "source": [
    "<img src=\"background_1.png\">"
   ]
  },
  {
   "cell_type": "markdown",
   "metadata": {},
   "source": [
    "<h1> AEQUITAS Hands-on Demonstrator </h1>"
   ]
  },
  {
   "cell_type": "markdown",
   "metadata": {},
   "source": [
    "<img src=\"background_3.png\">"
   ]
  },
  {
   "cell_type": "markdown",
   "metadata": {},
   "source": [
    "<h3> Libraries </h3>"
   ]
  },
  {
   "cell_type": "code",
   "execution_count": 1,
   "metadata": {
    "collapsed": false
   },
   "outputs": [],
   "source": [
    "import sys\n",
    "sys.path.append(\"../\")\n",
    "import numpy as np\n",
    "import pandas as pd\n",
    "pd.set_option('display.width', 500)\n",
    "from aequitas.engine import Aequitas, NpEncoder\n",
    "import aequitas.tools.data_manip as dm\n",
    "import aequitas.tools as tools\n",
    "from aequitas.gateway import Gateway"
   ]
  },
  {
   "cell_type": "markdown",
   "metadata": {},
   "source": [
    "<h5> Initialize connection with the context engine</h5>"
   ]
  },
  {
   "cell_type": "code",
   "execution_count": 2,
   "metadata": {},
   "outputs": [],
   "source": [
    "gw = Gateway('review', host='http://rain.cs.umu.se/aeq/')\n",
    "fs_only = False"
   ]
  },
  {
   "cell_type": "markdown",
   "metadata": {},
   "source": [
    "<h3> Importing the dataset </h3>"
   ]
  },
  {
   "cell_type": "code",
   "execution_count": 3,
   "metadata": {
    "ExecuteTime": {
     "end_time": "2023-10-15T20:22:55.466902Z",
     "start_time": "2023-10-15T20:22:55.360907Z"
    }
   },
   "outputs": [],
   "source": [
    "#Import dataset\n",
    "dataset_name=\"IT_candidates.csv\"\n",
    "dataset_directory=\"../datasets/\"+dataset_name\n",
    "dataset = pd.read_csv(dataset_directory)"
   ]
  },
  {
   "cell_type": "markdown",
   "metadata": {},
   "source": [
    "<h3> Pre-processing the original dataset </h3>"
   ]
  },
  {
   "cell_type": "markdown",
   "metadata": {},
   "source": [
    "<h5> Addressing missing values in data </h5>"
   ]
  },
  {
   "cell_type": "code",
   "execution_count": 4,
   "metadata": {
    "ExecuteTime": {
     "end_time": "2023-10-15T20:23:03.132898Z",
     "start_time": "2023-10-15T20:23:03.022402Z"
    }
   },
   "outputs": [],
   "source": [
    "# remove education column since there is an educution_num\n",
    "dataset = dataset.drop('education', axis=1)\n",
    "\n",
    "num_data = dataset.shape[0]\n",
    "col_names = dataset.columns\n",
    "for c in col_names:\n",
    "\tdataset[c] = dataset[c].replace(\"?\", np.NaN)\n",
    "dataset = dataset.apply(lambda x:x.fillna(x.value_counts().index[0]))"
   ]
  },
  {
   "cell_type": "markdown",
   "metadata": {},
   "source": [
    "<h3> Examples of use for the AEQUITAS objects </h3>"
   ]
  },
  {
   "cell_type": "markdown",
   "metadata": {},
   "source": [
    "<p> Example 1 - Empty parameters file </p>"
   ]
  },
  {
   "cell_type": "code",
   "execution_count": 5,
   "metadata": {
    "ExecuteTime": {
     "end_time": "2023-10-15T20:23:11.225443Z",
     "start_time": "2023-10-15T20:23:11.143450Z"
    }
   },
   "outputs": [
    {
     "name": "stdout",
     "output_type": "stream",
     "text": [
      "Dataset:\n",
      "        Column Name Data Type Column Type (suggestion)  Number_Values                                             Values\n",
      "0               age     int64               Continuous             74                                                  -\n",
      "1         workclass      text      Categorical/Ordinal              8  [Private, Local-gov, Self-emp-not-inc, Federal...\n",
      "2   educational-num     int64      Categorical/Ordinal             16  [7, 9, 12, 10, 6, 15, 4, 13, 14, 16, 3, 11, 5,...\n",
      "3    marital-status      text      Categorical/Ordinal              7  [Never-married, Married-civ-spouse, Widowed, D...\n",
      "4            skills      text      Categorical/Ordinal             14  [C++;Git, C;C++;Python, C;Python, Python, Swif...\n",
      "5      relationship      text      Categorical/Ordinal              6  [Own-child, Husband, Not-in-family, Unmarried,...\n",
      "6              race      text      Categorical/Ordinal              5  [Black, White, Asian-Pac-Islander, Other, Amer...\n",
      "7            gender      text                   Binary              2                                     [Male, Female]\n",
      "8      capital-gain     int64               Continuous            123                                                  -\n",
      "9      capital-loss     int64               Continuous             99                                                  -\n",
      "10   hours-per-week     int64               Continuous             96                                                  -\n",
      "11   native-country      text      Categorical/Ordinal             41  [United-States, Peru, Guatemala, Mexico, Domin...\n",
      "12        candidate      text                   Binary              2                                          [No, Yes]\n"
     ]
    }
   ],
   "source": [
    "parameters={\n",
    "}\n",
    "Aeq_dataset=Aequitas(dataset,parameters)\n",
    "Aeq_dataset.structure(verbose=True)"
   ]
  },
  {
   "cell_type": "markdown",
   "metadata": {},
   "source": [
    "##### Regrouping categories according to 'race' values"
   ]
  },
  {
   "cell_type": "code",
   "execution_count": 6,
   "metadata": {
    "ExecuteTime": {
     "end_time": "2023-10-15T20:23:06.656191Z",
     "start_time": "2023-10-15T20:23:06.625692Z"
    }
   },
   "outputs": [
    {
     "name": "stdout",
     "output_type": "stream",
     "text": [
      "Unique values:  ['Minority' 'White']\n"
     ]
    }
   ],
   "source": [
    "groups = [['White'], ['Black','Asian-Pac-Islander','Other','Amer-Indian-Eskimo']]\n",
    "labels=['White','Minority']\n",
    "dataset[\"race\"]=dm.merge_values(dataset[\"race\"],groups,labels)\n",
    "print(\"Unique values: \",dataset[\"race\"].unique())"
   ]
  },
  {
   "cell_type": "markdown",
   "metadata": {},
   "source": [
    "<p> Example 2 - Basic parameters file </p>"
   ]
  },
  {
   "cell_type": "code",
   "execution_count": 7,
   "metadata": {
    "ExecuteTime": {
     "end_time": "2023-10-15T20:23:12.648974Z",
     "start_time": "2023-10-15T20:23:12.624375Z"
    }
   },
   "outputs": [
    {
     "name": "stdout",
     "output_type": "stream",
     "text": [
      "Proportions: (candidate)\n",
      "            0\n",
      "No   0.760718\n",
      "Yes  0.239282\n",
      "\n"
     ]
    }
   ],
   "source": [
    "parameters={\n",
    "    \"class_attribute\":{\n",
    "        \"name\": 'candidate',\n",
    "    },\n",
    "}\n",
    "Aeq_dataset=Aequitas(dataset,parameters)\n",
    "Aeq_dataset.descriptive_stats(verbose=True)"
   ]
  },
  {
   "cell_type": "markdown",
   "metadata": {},
   "source": [
    "<p> Example 3 - Parameters file with sensitive attribute definition</p>"
   ]
  },
  {
   "cell_type": "code",
   "execution_count": 8,
   "metadata": {
    "ExecuteTime": {
     "end_time": "2023-10-15T20:23:13.900939Z",
     "start_time": "2023-10-15T20:23:13.535939Z"
    }
   },
   "outputs": [
    {
     "name": "stdout",
     "output_type": "stream",
     "text": [
      "Proportions: (candidate)\n",
      "            0\n",
      "No   0.760718\n",
      "Yes  0.239282\n",
      "\n",
      "Proportions: (gender)\n",
      "               0\n",
      "Male    0.668482\n",
      "Female  0.331518\n",
      "\n",
      "Proportions: (race)\n",
      "                 0\n",
      "White     0.855043\n",
      "Minority  0.144957\n",
      "\n",
      "Outcome distribution by group:\n",
      "              No       Yes\n",
      "Female  0.890749  0.109251\n",
      "Male    0.696233  0.303767\n",
      "\n",
      "Outcome distribution by group:\n",
      "                No       Yes\n",
      "Minority  0.847458  0.152542\n",
      "White     0.746013  0.253987\n",
      "\n",
      "\n",
      "Association between gender and race.\n",
      "Contingency Table:\n",
      "race    Minority  White\n",
      "gender                 \n",
      "Female      3165  13027\n",
      "Male        3915  28735\n",
      "\n",
      "Chi-squared statistic: 497.9678182429906\n",
      "Cramer's V: 0.10087228311688282\n",
      "Degrees of Freedom: 1\n",
      "p-value: 2.6310785315092373e-110\n",
      "There is a statistically significant association between gender and race.\n",
      "\n",
      "Association between gender and candidate.\n",
      "Contingency Table:\n",
      "candidate     No   Yes\n",
      "gender                \n",
      "Female     14423  1769\n",
      "Male       22732  9918\n",
      "\n",
      "Chi-squared statistic: 2248.847679013691\n",
      "Cramer's V: 0.21453154666546925\n",
      "Degrees of Freedom: 1\n",
      "p-value: 0.0\n",
      "There is a statistically significant association between gender and candidate.\n",
      "\n",
      "Association between race and candidate.\n",
      "Contingency Table:\n",
      "candidate     No    Yes\n",
      "race                   \n",
      "Minority    6000   1080\n",
      "White      31155  10607\n",
      "\n",
      "Chi-squared statistic: 341.69392421526\n",
      "Cramer's V: 0.08351988884542906\n",
      "Degrees of Freedom: 1\n",
      "p-value: 2.7287685643121156e-76\n",
      "There is a statistically significant association between race and candidate.\n",
      "Mutual Information between gender and race: 0.004913186885676296\n",
      "Mutual Information between gender and candidate: 0.02543127128464205\n",
      "Mutual Information between race and candidate: 0.003810673439274867\n"
     ]
    }
   ],
   "source": [
    "parameters={\n",
    "    \"class_attribute\":{\n",
    "        \"name\": 'candidate',\n",
    "        \"positive_value\":'Yes'\n",
    "    },\n",
    "    \"sensitive_attributes\":\n",
    "    [\n",
    "        {\n",
    "            \"name\": 'gender',\n",
    "        },\n",
    "        {\n",
    "            \"name\": 'race',\n",
    "        }\n",
    "    ]\n",
    "}\n",
    "Aeq_dataset=Aequitas(dataset,parameters)\n",
    "Aeq_dataset.descriptive_stats(verbose=True)"
   ]
  },
  {
   "cell_type": "markdown",
   "metadata": {},
   "source": [
    "<h5> Save dataset analysis so far to the context engine </h5>"
   ]
  },
  {
   "cell_type": "code",
   "execution_count": 9,
   "metadata": {
    "ExecuteTime": {
     "end_time": "2023-10-15T20:55:26.051283Z",
     "start_time": "2023-10-15T20:55:23.956287Z"
    },
    "collapsed": false
   },
   "outputs": [
    {
     "ename": "ConnectionError",
     "evalue": "HTTPConnectionPool(host='rain.cs.umu.se', port=80): Max retries exceeded with url: /aeq/project/review_1/data/dataset/0 (Caused by NameResolutionError(\"<urllib3.connection.HTTPConnection object at 0x7f939257bcd0>: Failed to resolve 'rain.cs.umu.se' ([Errno -3] Temporary failure in name resolution)\"))",
     "output_type": "error",
     "traceback": [
      "\u001b[0;31m---------------------------------------------------------------------------\u001b[0m",
      "\u001b[0;31mgaierror\u001b[0m                                  Traceback (most recent call last)",
      "File \u001b[0;32m~/anaconda3/envs/aequitas/lib/python3.11/site-packages/urllib3/connection.py:198\u001b[0m, in \u001b[0;36mHTTPConnection._new_conn\u001b[0;34m(self)\u001b[0m\n\u001b[1;32m    197\u001b[0m \u001b[39mtry\u001b[39;00m:\n\u001b[0;32m--> 198\u001b[0m     sock \u001b[39m=\u001b[39m connection\u001b[39m.\u001b[39mcreate_connection(\n\u001b[1;32m    199\u001b[0m         (\u001b[39mself\u001b[39m\u001b[39m.\u001b[39m_dns_host, \u001b[39mself\u001b[39m\u001b[39m.\u001b[39mport),\n\u001b[1;32m    200\u001b[0m         \u001b[39mself\u001b[39m\u001b[39m.\u001b[39mtimeout,\n\u001b[1;32m    201\u001b[0m         source_address\u001b[39m=\u001b[39m\u001b[39mself\u001b[39m\u001b[39m.\u001b[39msource_address,\n\u001b[1;32m    202\u001b[0m         socket_options\u001b[39m=\u001b[39m\u001b[39mself\u001b[39m\u001b[39m.\u001b[39msocket_options,\n\u001b[1;32m    203\u001b[0m     )\n\u001b[1;32m    204\u001b[0m \u001b[39mexcept\u001b[39;00m socket\u001b[39m.\u001b[39mgaierror \u001b[39mas\u001b[39;00m e:\n",
      "File \u001b[0;32m~/anaconda3/envs/aequitas/lib/python3.11/site-packages/urllib3/util/connection.py:60\u001b[0m, in \u001b[0;36mcreate_connection\u001b[0;34m(address, timeout, source_address, socket_options)\u001b[0m\n\u001b[1;32m     58\u001b[0m     \u001b[39mraise\u001b[39;00m LocationParseError(\u001b[39mf\u001b[39m\u001b[39m\"\u001b[39m\u001b[39m'\u001b[39m\u001b[39m{\u001b[39;00mhost\u001b[39m}\u001b[39;00m\u001b[39m'\u001b[39m\u001b[39m, label empty or too long\u001b[39m\u001b[39m\"\u001b[39m) \u001b[39mfrom\u001b[39;00m \u001b[39mNone\u001b[39;00m\n\u001b[0;32m---> 60\u001b[0m \u001b[39mfor\u001b[39;00m res \u001b[39min\u001b[39;00m socket\u001b[39m.\u001b[39mgetaddrinfo(host, port, family, socket\u001b[39m.\u001b[39mSOCK_STREAM):\n\u001b[1;32m     61\u001b[0m     af, socktype, proto, canonname, sa \u001b[39m=\u001b[39m res\n",
      "File \u001b[0;32m~/anaconda3/envs/aequitas/lib/python3.11/socket.py:962\u001b[0m, in \u001b[0;36mgetaddrinfo\u001b[0;34m(host, port, family, type, proto, flags)\u001b[0m\n\u001b[1;32m    961\u001b[0m addrlist \u001b[39m=\u001b[39m []\n\u001b[0;32m--> 962\u001b[0m \u001b[39mfor\u001b[39;00m res \u001b[39min\u001b[39;00m _socket\u001b[39m.\u001b[39mgetaddrinfo(host, port, family, \u001b[39mtype\u001b[39m, proto, flags):\n\u001b[1;32m    963\u001b[0m     af, socktype, proto, canonname, sa \u001b[39m=\u001b[39m res\n",
      "\u001b[0;31mgaierror\u001b[0m: [Errno -3] Temporary failure in name resolution",
      "\nThe above exception was the direct cause of the following exception:\n",
      "\u001b[0;31mNameResolutionError\u001b[0m                       Traceback (most recent call last)",
      "File \u001b[0;32m~/anaconda3/envs/aequitas/lib/python3.11/site-packages/urllib3/connectionpool.py:793\u001b[0m, in \u001b[0;36mHTTPConnectionPool.urlopen\u001b[0;34m(self, method, url, body, headers, retries, redirect, assert_same_host, timeout, pool_timeout, release_conn, chunked, body_pos, preload_content, decode_content, **response_kw)\u001b[0m\n\u001b[1;32m    792\u001b[0m \u001b[39m# Make the request on the HTTPConnection object\u001b[39;00m\n\u001b[0;32m--> 793\u001b[0m response \u001b[39m=\u001b[39m \u001b[39mself\u001b[39m\u001b[39m.\u001b[39m_make_request(\n\u001b[1;32m    794\u001b[0m     conn,\n\u001b[1;32m    795\u001b[0m     method,\n\u001b[1;32m    796\u001b[0m     url,\n\u001b[1;32m    797\u001b[0m     timeout\u001b[39m=\u001b[39mtimeout_obj,\n\u001b[1;32m    798\u001b[0m     body\u001b[39m=\u001b[39mbody,\n\u001b[1;32m    799\u001b[0m     headers\u001b[39m=\u001b[39mheaders,\n\u001b[1;32m    800\u001b[0m     chunked\u001b[39m=\u001b[39mchunked,\n\u001b[1;32m    801\u001b[0m     retries\u001b[39m=\u001b[39mretries,\n\u001b[1;32m    802\u001b[0m     response_conn\u001b[39m=\u001b[39mresponse_conn,\n\u001b[1;32m    803\u001b[0m     preload_content\u001b[39m=\u001b[39mpreload_content,\n\u001b[1;32m    804\u001b[0m     decode_content\u001b[39m=\u001b[39mdecode_content,\n\u001b[1;32m    805\u001b[0m     \u001b[39m*\u001b[39m\u001b[39m*\u001b[39mresponse_kw,\n\u001b[1;32m    806\u001b[0m )\n\u001b[1;32m    808\u001b[0m \u001b[39m# Everything went great!\u001b[39;00m\n",
      "File \u001b[0;32m~/anaconda3/envs/aequitas/lib/python3.11/site-packages/urllib3/connectionpool.py:496\u001b[0m, in \u001b[0;36mHTTPConnectionPool._make_request\u001b[0;34m(self, conn, method, url, body, headers, retries, timeout, chunked, response_conn, preload_content, decode_content, enforce_content_length)\u001b[0m\n\u001b[1;32m    495\u001b[0m \u001b[39mtry\u001b[39;00m:\n\u001b[0;32m--> 496\u001b[0m     conn\u001b[39m.\u001b[39mrequest(\n\u001b[1;32m    497\u001b[0m         method,\n\u001b[1;32m    498\u001b[0m         url,\n\u001b[1;32m    499\u001b[0m         body\u001b[39m=\u001b[39mbody,\n\u001b[1;32m    500\u001b[0m         headers\u001b[39m=\u001b[39mheaders,\n\u001b[1;32m    501\u001b[0m         chunked\u001b[39m=\u001b[39mchunked,\n\u001b[1;32m    502\u001b[0m         preload_content\u001b[39m=\u001b[39mpreload_content,\n\u001b[1;32m    503\u001b[0m         decode_content\u001b[39m=\u001b[39mdecode_content,\n\u001b[1;32m    504\u001b[0m         enforce_content_length\u001b[39m=\u001b[39menforce_content_length,\n\u001b[1;32m    505\u001b[0m     )\n\u001b[1;32m    507\u001b[0m \u001b[39m# We are swallowing BrokenPipeError (errno.EPIPE) since the server is\u001b[39;00m\n\u001b[1;32m    508\u001b[0m \u001b[39m# legitimately able to close the connection after sending a valid response.\u001b[39;00m\n\u001b[1;32m    509\u001b[0m \u001b[39m# With this behaviour, the received response is still readable.\u001b[39;00m\n",
      "File \u001b[0;32m~/anaconda3/envs/aequitas/lib/python3.11/site-packages/urllib3/connection.py:400\u001b[0m, in \u001b[0;36mHTTPConnection.request\u001b[0;34m(self, method, url, body, headers, chunked, preload_content, decode_content, enforce_content_length)\u001b[0m\n\u001b[1;32m    399\u001b[0m     \u001b[39mself\u001b[39m\u001b[39m.\u001b[39mputheader(header, value)\n\u001b[0;32m--> 400\u001b[0m \u001b[39mself\u001b[39m\u001b[39m.\u001b[39mendheaders()\n\u001b[1;32m    402\u001b[0m \u001b[39m# If we're given a body we start sending that in chunks.\u001b[39;00m\n",
      "File \u001b[0;32m~/anaconda3/envs/aequitas/lib/python3.11/http/client.py:1281\u001b[0m, in \u001b[0;36mHTTPConnection.endheaders\u001b[0;34m(self, message_body, encode_chunked)\u001b[0m\n\u001b[1;32m   1280\u001b[0m     \u001b[39mraise\u001b[39;00m CannotSendHeader()\n\u001b[0;32m-> 1281\u001b[0m \u001b[39mself\u001b[39m\u001b[39m.\u001b[39m_send_output(message_body, encode_chunked\u001b[39m=\u001b[39mencode_chunked)\n",
      "File \u001b[0;32m~/anaconda3/envs/aequitas/lib/python3.11/http/client.py:1041\u001b[0m, in \u001b[0;36mHTTPConnection._send_output\u001b[0;34m(self, message_body, encode_chunked)\u001b[0m\n\u001b[1;32m   1040\u001b[0m \u001b[39mdel\u001b[39;00m \u001b[39mself\u001b[39m\u001b[39m.\u001b[39m_buffer[:]\n\u001b[0;32m-> 1041\u001b[0m \u001b[39mself\u001b[39m\u001b[39m.\u001b[39msend(msg)\n\u001b[1;32m   1043\u001b[0m \u001b[39mif\u001b[39;00m message_body \u001b[39mis\u001b[39;00m \u001b[39mnot\u001b[39;00m \u001b[39mNone\u001b[39;00m:\n\u001b[1;32m   1044\u001b[0m \n\u001b[1;32m   1045\u001b[0m     \u001b[39m# create a consistent interface to message_body\u001b[39;00m\n",
      "File \u001b[0;32m~/anaconda3/envs/aequitas/lib/python3.11/http/client.py:979\u001b[0m, in \u001b[0;36mHTTPConnection.send\u001b[0;34m(self, data)\u001b[0m\n\u001b[1;32m    978\u001b[0m \u001b[39mif\u001b[39;00m \u001b[39mself\u001b[39m\u001b[39m.\u001b[39mauto_open:\n\u001b[0;32m--> 979\u001b[0m     \u001b[39mself\u001b[39m\u001b[39m.\u001b[39mconnect()\n\u001b[1;32m    980\u001b[0m \u001b[39melse\u001b[39;00m:\n",
      "File \u001b[0;32m~/anaconda3/envs/aequitas/lib/python3.11/site-packages/urllib3/connection.py:238\u001b[0m, in \u001b[0;36mHTTPConnection.connect\u001b[0;34m(self)\u001b[0m\n\u001b[1;32m    237\u001b[0m \u001b[39mdef\u001b[39;00m \u001b[39mconnect\u001b[39m(\u001b[39mself\u001b[39m) \u001b[39m-\u001b[39m\u001b[39m>\u001b[39m \u001b[39mNone\u001b[39;00m:\n\u001b[0;32m--> 238\u001b[0m     \u001b[39mself\u001b[39m\u001b[39m.\u001b[39msock \u001b[39m=\u001b[39m \u001b[39mself\u001b[39m\u001b[39m.\u001b[39m_new_conn()\n\u001b[1;32m    239\u001b[0m     \u001b[39mif\u001b[39;00m \u001b[39mself\u001b[39m\u001b[39m.\u001b[39m_tunnel_host:\n\u001b[1;32m    240\u001b[0m         \u001b[39m# If we're tunneling it means we're connected to our proxy.\u001b[39;00m\n",
      "File \u001b[0;32m~/anaconda3/envs/aequitas/lib/python3.11/site-packages/urllib3/connection.py:205\u001b[0m, in \u001b[0;36mHTTPConnection._new_conn\u001b[0;34m(self)\u001b[0m\n\u001b[1;32m    204\u001b[0m \u001b[39mexcept\u001b[39;00m socket\u001b[39m.\u001b[39mgaierror \u001b[39mas\u001b[39;00m e:\n\u001b[0;32m--> 205\u001b[0m     \u001b[39mraise\u001b[39;00m NameResolutionError(\u001b[39mself\u001b[39m\u001b[39m.\u001b[39mhost, \u001b[39mself\u001b[39m, e) \u001b[39mfrom\u001b[39;00m \u001b[39me\u001b[39;00m\n\u001b[1;32m    206\u001b[0m \u001b[39mexcept\u001b[39;00m SocketTimeout \u001b[39mas\u001b[39;00m e:\n",
      "\u001b[0;31mNameResolutionError\u001b[0m: <urllib3.connection.HTTPConnection object at 0x7f939257bcd0>: Failed to resolve 'rain.cs.umu.se' ([Errno -3] Temporary failure in name resolution)",
      "\nThe above exception was the direct cause of the following exception:\n",
      "\u001b[0;31mMaxRetryError\u001b[0m                             Traceback (most recent call last)",
      "File \u001b[0;32m~/anaconda3/envs/aequitas/lib/python3.11/site-packages/requests/adapters.py:486\u001b[0m, in \u001b[0;36mHTTPAdapter.send\u001b[0;34m(self, request, stream, timeout, verify, cert, proxies)\u001b[0m\n\u001b[1;32m    485\u001b[0m \u001b[39mtry\u001b[39;00m:\n\u001b[0;32m--> 486\u001b[0m     resp \u001b[39m=\u001b[39m conn\u001b[39m.\u001b[39murlopen(\n\u001b[1;32m    487\u001b[0m         method\u001b[39m=\u001b[39mrequest\u001b[39m.\u001b[39mmethod,\n\u001b[1;32m    488\u001b[0m         url\u001b[39m=\u001b[39murl,\n\u001b[1;32m    489\u001b[0m         body\u001b[39m=\u001b[39mrequest\u001b[39m.\u001b[39mbody,\n\u001b[1;32m    490\u001b[0m         headers\u001b[39m=\u001b[39mrequest\u001b[39m.\u001b[39mheaders,\n\u001b[1;32m    491\u001b[0m         redirect\u001b[39m=\u001b[39m\u001b[39mFalse\u001b[39;00m,\n\u001b[1;32m    492\u001b[0m         assert_same_host\u001b[39m=\u001b[39m\u001b[39mFalse\u001b[39;00m,\n\u001b[1;32m    493\u001b[0m         preload_content\u001b[39m=\u001b[39m\u001b[39mFalse\u001b[39;00m,\n\u001b[1;32m    494\u001b[0m         decode_content\u001b[39m=\u001b[39m\u001b[39mFalse\u001b[39;00m,\n\u001b[1;32m    495\u001b[0m         retries\u001b[39m=\u001b[39m\u001b[39mself\u001b[39m\u001b[39m.\u001b[39mmax_retries,\n\u001b[1;32m    496\u001b[0m         timeout\u001b[39m=\u001b[39mtimeout,\n\u001b[1;32m    497\u001b[0m         chunked\u001b[39m=\u001b[39mchunked,\n\u001b[1;32m    498\u001b[0m     )\n\u001b[1;32m    500\u001b[0m \u001b[39mexcept\u001b[39;00m (ProtocolError, \u001b[39mOSError\u001b[39;00m) \u001b[39mas\u001b[39;00m err:\n",
      "File \u001b[0;32m~/anaconda3/envs/aequitas/lib/python3.11/site-packages/urllib3/connectionpool.py:847\u001b[0m, in \u001b[0;36mHTTPConnectionPool.urlopen\u001b[0;34m(self, method, url, body, headers, retries, redirect, assert_same_host, timeout, pool_timeout, release_conn, chunked, body_pos, preload_content, decode_content, **response_kw)\u001b[0m\n\u001b[1;32m    845\u001b[0m     new_e \u001b[39m=\u001b[39m ProtocolError(\u001b[39m\"\u001b[39m\u001b[39mConnection aborted.\u001b[39m\u001b[39m\"\u001b[39m, new_e)\n\u001b[0;32m--> 847\u001b[0m retries \u001b[39m=\u001b[39m retries\u001b[39m.\u001b[39mincrement(\n\u001b[1;32m    848\u001b[0m     method, url, error\u001b[39m=\u001b[39mnew_e, _pool\u001b[39m=\u001b[39m\u001b[39mself\u001b[39m, _stacktrace\u001b[39m=\u001b[39msys\u001b[39m.\u001b[39mexc_info()[\u001b[39m2\u001b[39m]\n\u001b[1;32m    849\u001b[0m )\n\u001b[1;32m    850\u001b[0m retries\u001b[39m.\u001b[39msleep()\n",
      "File \u001b[0;32m~/anaconda3/envs/aequitas/lib/python3.11/site-packages/urllib3/util/retry.py:515\u001b[0m, in \u001b[0;36mRetry.increment\u001b[0;34m(self, method, url, response, error, _pool, _stacktrace)\u001b[0m\n\u001b[1;32m    514\u001b[0m     reason \u001b[39m=\u001b[39m error \u001b[39mor\u001b[39;00m ResponseError(cause)\n\u001b[0;32m--> 515\u001b[0m     \u001b[39mraise\u001b[39;00m MaxRetryError(_pool, url, reason) \u001b[39mfrom\u001b[39;00m \u001b[39mreason\u001b[39;00m  \u001b[39m# type: ignore[arg-type]\u001b[39;00m\n\u001b[1;32m    517\u001b[0m log\u001b[39m.\u001b[39mdebug(\u001b[39m\"\u001b[39m\u001b[39mIncremented Retry for (url=\u001b[39m\u001b[39m'\u001b[39m\u001b[39m%s\u001b[39;00m\u001b[39m'\u001b[39m\u001b[39m): \u001b[39m\u001b[39m%r\u001b[39;00m\u001b[39m\"\u001b[39m, url, new_retry)\n",
      "\u001b[0;31mMaxRetryError\u001b[0m: HTTPConnectionPool(host='rain.cs.umu.se', port=80): Max retries exceeded with url: /aeq/project/review_1/data/dataset/0 (Caused by NameResolutionError(\"<urllib3.connection.HTTPConnection object at 0x7f939257bcd0>: Failed to resolve 'rain.cs.umu.se' ([Errno -3] Temporary failure in name resolution)\"))",
      "\nDuring handling of the above exception, another exception occurred:\n",
      "\u001b[0;31mConnectionError\u001b[0m                           Traceback (most recent call last)",
      "Cell \u001b[0;32mIn[9], line 1\u001b[0m\n\u001b[0;32m----> 1\u001b[0m gw\u001b[38;5;241m.\u001b[39msave_element(Aeq_dataset\u001b[38;5;241m.\u001b[39mparameters, element_key\u001b[38;5;241m=\u001b[39m\u001b[38;5;124m\"\u001b[39m\u001b[38;5;124mdataset\u001b[39m\u001b[38;5;124m\"\u001b[39m, filesystem\u001b[38;5;241m=\u001b[39mfs_only)\n",
      "File \u001b[0;32m~/Documents/Projects/Aequites-demo/aequitas-lib/examples/../aequitas/gateway/__init__.py:94\u001b[0m, in \u001b[0;36mGateway.save_element\u001b[0;34m(self, parameters, element_key, version, filesystem)\u001b[0m\n\u001b[1;32m     92\u001b[0m     \u001b[39mreturn\u001b[39;00m \u001b[39mself\u001b[39m\u001b[39m.\u001b[39m_save_element_to_filesystem(_e[\u001b[39m'\u001b[39m\u001b[39mkey\u001b[39m\u001b[39m'\u001b[39m], _e[\u001b[39m'\u001b[39m\u001b[39mversion\u001b[39m\u001b[39m'\u001b[39m], _p)\n\u001b[1;32m     93\u001b[0m \u001b[39melse\u001b[39;00m:\n\u001b[0;32m---> 94\u001b[0m     \u001b[39mreturn\u001b[39;00m \u001b[39mself\u001b[39m\u001b[39m.\u001b[39m_save_element_to_remote(_e[\u001b[39m'\u001b[39m\u001b[39mkey\u001b[39m\u001b[39m'\u001b[39m], _e[\u001b[39m'\u001b[39m\u001b[39mversion\u001b[39m\u001b[39m'\u001b[39m], _p)\n",
      "File \u001b[0;32m~/Documents/Projects/Aequites-demo/aequitas-lib/examples/../aequitas/gateway/__init__.py:196\u001b[0m, in \u001b[0;36mGateway._save_element_to_remote\u001b[0;34m(self, element_key, version, parameters)\u001b[0m\n\u001b[1;32m    192\u001b[0m     r \u001b[39m=\u001b[39m requests\u001b[39m.\u001b[39mput(\u001b[39mf\u001b[39m\u001b[39m'\u001b[39m\u001b[39m{\u001b[39;00m\u001b[39mself\u001b[39m\u001b[39m.\u001b[39m_host\u001b[39m}\u001b[39;00m\u001b[39mproject/\u001b[39m\u001b[39m{\u001b[39;00m\u001b[39mself\u001b[39m\u001b[39m.\u001b[39mpid\u001b[39m}\u001b[39;00m\u001b[39m/data/\u001b[39m\u001b[39m{\u001b[39;00melement_key\u001b[39m}\u001b[39;00m\u001b[39m/0\u001b[39m\u001b[39m'\u001b[39m,\n\u001b[1;32m    193\u001b[0m                      data\u001b[39m=\u001b[39mjson\u001b[39m.\u001b[39mdumps(parameters, \u001b[39mcls\u001b[39m\u001b[39m=\u001b[39mNpEncoder),\n\u001b[1;32m    194\u001b[0m                      headers\u001b[39m=\u001b[39m_headers)\n\u001b[1;32m    195\u001b[0m \u001b[39melse\u001b[39;00m:\n\u001b[0;32m--> 196\u001b[0m     r \u001b[39m=\u001b[39m requests\u001b[39m.\u001b[39mput(\u001b[39mf\u001b[39m\u001b[39m'\u001b[39m\u001b[39m{\u001b[39;00m\u001b[39mself\u001b[39m\u001b[39m.\u001b[39m_host\u001b[39m}\u001b[39;00m\u001b[39mproject/\u001b[39m\u001b[39m{\u001b[39;00m\u001b[39mself\u001b[39m\u001b[39m.\u001b[39mpid\u001b[39m}\u001b[39;00m\u001b[39m/data/\u001b[39m\u001b[39m{\u001b[39;00melement_key\u001b[39m}\u001b[39;00m\u001b[39m/\u001b[39m\u001b[39m{\u001b[39;00mversion\u001b[39m}\u001b[39;00m\u001b[39m'\u001b[39m,\n\u001b[1;32m    197\u001b[0m                      data\u001b[39m=\u001b[39mjson\u001b[39m.\u001b[39mdumps(parameters, \u001b[39mcls\u001b[39m\u001b[39m=\u001b[39mNpEncoder),\n\u001b[1;32m    198\u001b[0m                      headers\u001b[39m=\u001b[39m_headers)\n\u001b[1;32m    200\u001b[0m \u001b[39mif\u001b[39;00m r\u001b[39m.\u001b[39mstatus_code \u001b[39m!=\u001b[39m \u001b[39m200\u001b[39m:\n\u001b[1;32m    201\u001b[0m     \u001b[39mprint\u001b[39m(\u001b[39m\"\u001b[39m\u001b[39mError: \u001b[39m\u001b[39m\"\u001b[39m, r\u001b[39m.\u001b[39mstatus_code)\n",
      "File \u001b[0;32m~/anaconda3/envs/aequitas/lib/python3.11/site-packages/requests/api.py:130\u001b[0m, in \u001b[0;36mput\u001b[0;34m(url, data, **kwargs)\u001b[0m\n\u001b[1;32m    118\u001b[0m \u001b[39mdef\u001b[39;00m \u001b[39mput\u001b[39m(url, data\u001b[39m=\u001b[39m\u001b[39mNone\u001b[39;00m, \u001b[39m*\u001b[39m\u001b[39m*\u001b[39mkwargs):\n\u001b[1;32m    119\u001b[0m \u001b[39m    \u001b[39m\u001b[39mr\u001b[39m\u001b[39m\"\"\"Sends a PUT request.\u001b[39;00m\n\u001b[1;32m    120\u001b[0m \n\u001b[1;32m    121\u001b[0m \u001b[39m    :param url: URL for the new :class:`Request` object.\u001b[39;00m\n\u001b[0;32m   (...)\u001b[0m\n\u001b[1;32m    127\u001b[0m \u001b[39m    :rtype: requests.Response\u001b[39;00m\n\u001b[1;32m    128\u001b[0m \u001b[39m    \"\"\"\u001b[39;00m\n\u001b[0;32m--> 130\u001b[0m     \u001b[39mreturn\u001b[39;00m request(\u001b[39m\"\u001b[39m\u001b[39mput\u001b[39m\u001b[39m\"\u001b[39m, url, data\u001b[39m=\u001b[39mdata, \u001b[39m*\u001b[39m\u001b[39m*\u001b[39mkwargs)\n",
      "File \u001b[0;32m~/anaconda3/envs/aequitas/lib/python3.11/site-packages/requests/api.py:59\u001b[0m, in \u001b[0;36mrequest\u001b[0;34m(method, url, **kwargs)\u001b[0m\n\u001b[1;32m     55\u001b[0m \u001b[39m# By using the 'with' statement we are sure the session is closed, thus we\u001b[39;00m\n\u001b[1;32m     56\u001b[0m \u001b[39m# avoid leaving sockets open which can trigger a ResourceWarning in some\u001b[39;00m\n\u001b[1;32m     57\u001b[0m \u001b[39m# cases, and look like a memory leak in others.\u001b[39;00m\n\u001b[1;32m     58\u001b[0m \u001b[39mwith\u001b[39;00m sessions\u001b[39m.\u001b[39mSession() \u001b[39mas\u001b[39;00m session:\n\u001b[0;32m---> 59\u001b[0m     \u001b[39mreturn\u001b[39;00m session\u001b[39m.\u001b[39mrequest(method\u001b[39m=\u001b[39mmethod, url\u001b[39m=\u001b[39murl, \u001b[39m*\u001b[39m\u001b[39m*\u001b[39mkwargs)\n",
      "File \u001b[0;32m~/anaconda3/envs/aequitas/lib/python3.11/site-packages/requests/sessions.py:589\u001b[0m, in \u001b[0;36mSession.request\u001b[0;34m(self, method, url, params, data, headers, cookies, files, auth, timeout, allow_redirects, proxies, hooks, stream, verify, cert, json)\u001b[0m\n\u001b[1;32m    584\u001b[0m send_kwargs \u001b[39m=\u001b[39m {\n\u001b[1;32m    585\u001b[0m     \u001b[39m\"\u001b[39m\u001b[39mtimeout\u001b[39m\u001b[39m\"\u001b[39m: timeout,\n\u001b[1;32m    586\u001b[0m     \u001b[39m\"\u001b[39m\u001b[39mallow_redirects\u001b[39m\u001b[39m\"\u001b[39m: allow_redirects,\n\u001b[1;32m    587\u001b[0m }\n\u001b[1;32m    588\u001b[0m send_kwargs\u001b[39m.\u001b[39mupdate(settings)\n\u001b[0;32m--> 589\u001b[0m resp \u001b[39m=\u001b[39m \u001b[39mself\u001b[39m\u001b[39m.\u001b[39msend(prep, \u001b[39m*\u001b[39m\u001b[39m*\u001b[39msend_kwargs)\n\u001b[1;32m    591\u001b[0m \u001b[39mreturn\u001b[39;00m resp\n",
      "File \u001b[0;32m~/anaconda3/envs/aequitas/lib/python3.11/site-packages/requests/sessions.py:703\u001b[0m, in \u001b[0;36mSession.send\u001b[0;34m(self, request, **kwargs)\u001b[0m\n\u001b[1;32m    700\u001b[0m start \u001b[39m=\u001b[39m preferred_clock()\n\u001b[1;32m    702\u001b[0m \u001b[39m# Send the request\u001b[39;00m\n\u001b[0;32m--> 703\u001b[0m r \u001b[39m=\u001b[39m adapter\u001b[39m.\u001b[39msend(request, \u001b[39m*\u001b[39m\u001b[39m*\u001b[39mkwargs)\n\u001b[1;32m    705\u001b[0m \u001b[39m# Total elapsed time of the request (approximately)\u001b[39;00m\n\u001b[1;32m    706\u001b[0m elapsed \u001b[39m=\u001b[39m preferred_clock() \u001b[39m-\u001b[39m start\n",
      "File \u001b[0;32m~/anaconda3/envs/aequitas/lib/python3.11/site-packages/requests/adapters.py:519\u001b[0m, in \u001b[0;36mHTTPAdapter.send\u001b[0;34m(self, request, stream, timeout, verify, cert, proxies)\u001b[0m\n\u001b[1;32m    515\u001b[0m     \u001b[39mif\u001b[39;00m \u001b[39misinstance\u001b[39m(e\u001b[39m.\u001b[39mreason, _SSLError):\n\u001b[1;32m    516\u001b[0m         \u001b[39m# This branch is for urllib3 v1.22 and later.\u001b[39;00m\n\u001b[1;32m    517\u001b[0m         \u001b[39mraise\u001b[39;00m SSLError(e, request\u001b[39m=\u001b[39mrequest)\n\u001b[0;32m--> 519\u001b[0m     \u001b[39mraise\u001b[39;00m \u001b[39mConnectionError\u001b[39;00m(e, request\u001b[39m=\u001b[39mrequest)\n\u001b[1;32m    521\u001b[0m \u001b[39mexcept\u001b[39;00m ClosedPoolError \u001b[39mas\u001b[39;00m e:\n\u001b[1;32m    522\u001b[0m     \u001b[39mraise\u001b[39;00m \u001b[39mConnectionError\u001b[39;00m(e, request\u001b[39m=\u001b[39mrequest)\n",
      "\u001b[0;31mConnectionError\u001b[0m: HTTPConnectionPool(host='rain.cs.umu.se', port=80): Max retries exceeded with url: /aeq/project/review_1/data/dataset/0 (Caused by NameResolutionError(\"<urllib3.connection.HTTPConnection object at 0x7f939257bcd0>: Failed to resolve 'rain.cs.umu.se' ([Errno -3] Temporary failure in name resolution)\"))"
     ]
    }
   ],
   "source": [
    "gw.save_element(Aeq_dataset.parameters, element_key=\"dataset\", filesystem=fs_only)"
   ]
  },
  {
   "cell_type": "markdown",
   "metadata": {},
   "source": [
    "<p> Splitting in training and testing samples </p>"
   ]
  },
  {
   "cell_type": "code",
   "execution_count": null,
   "metadata": {
    "ExecuteTime": {
     "end_time": "2023-10-15T20:23:20.576782Z",
     "start_time": "2023-10-15T20:23:20.556945Z"
    }
   },
   "outputs": [],
   "source": [
    "training_sample,test_sample = dm.split_dataset(dataset,ratio=0.3, random_state=51)"
   ]
  },
  {
   "cell_type": "markdown",
   "metadata": {},
   "source": [
    "<p> Definition of Parameters dic and the two corresponding Aequitas objects</p>"
   ]
  },
  {
   "cell_type": "code",
   "execution_count": null,
   "metadata": {
    "ExecuteTime": {
     "end_time": "2023-10-15T20:23:22.120735Z",
     "start_time": "2023-10-15T20:23:22.102236Z"
    }
   },
   "outputs": [],
   "source": [
    "parameters={\n",
    "    \"class_attribute\":{\n",
    "        \"name\": 'candidate',\n",
    "        \"positive_value\":'Yes'\n",
    "    },\n",
    "    \"sensitive_attributes\":\n",
    "    [\n",
    "        {\n",
    "            \"name\": 'gender',\n",
    "            \"privileged_group\":'Male'\n",
    "        },\n",
    "    ]\n",
    "}\n",
    "\n",
    "Aeq_training=Aequitas(training_sample,parameters)\n",
    "Aeq_test=Aequitas(test_sample,parameters)"
   ]
  },
  {
   "cell_type": "markdown",
   "metadata": {},
   "source": [
    "Preliminary metric evaluation: Statistical Parity"
   ]
  },
  {
   "cell_type": "code",
   "execution_count": null,
   "metadata": {
    "ExecuteTime": {
     "end_time": "2023-10-15T20:23:23.618618Z",
     "start_time": "2023-10-15T20:23:23.356622Z"
    }
   },
   "outputs": [],
   "source": [
    "Aeq_training.descriptive_stats(verbose=False)\n",
    "Aeq_training.statistical_parity(verbose=True)"
   ]
  },
  {
   "cell_type": "markdown",
   "metadata": {},
   "source": [
    "Preliminary metric evaluation: Disparate Impact"
   ]
  },
  {
   "cell_type": "code",
   "execution_count": null,
   "metadata": {},
   "outputs": [],
   "source": [
    "Aeq_training.disparate_impact(verbose=True)"
   ]
  },
  {
   "cell_type": "markdown",
   "metadata": {},
   "source": [
    "Definition of the parameters for encoding tranformations"
   ]
  },
  {
   "cell_type": "code",
   "execution_count": null,
   "metadata": {
    "ExecuteTime": {
     "end_time": "2023-10-15T20:23:26.159796Z",
     "start_time": "2023-10-15T20:23:26.137242Z"
    }
   },
   "outputs": [],
   "source": [
    "transform_dictionary = {\n",
    "    \"candidate\": {\n",
    "        \"encode\": \"labeling\",\n",
    "        \"labels\": {\n",
    "            \"No\": 0,\n",
    "            \"Yes\": 1, \n",
    "        }\n",
    "    },\n",
    "    \"gender\": {\n",
    "        \"encode\": \"labeling\",\n",
    "        \"labels\": {\n",
    "            \"Female\": 0,\n",
    "            \"Male\": 1, \n",
    "        }\n",
    "    },\n",
    "    \"race\": {\n",
    "        \"encode\": \"labeling\",\n",
    "        \"labels\": {\n",
    "            \"Minority\": 0,\n",
    "            \"White\": 1, \n",
    "        } \n",
    "    },\n",
    "    \"workclass\": {\n",
    "        \"encode\": \"labeling\",\n",
    "        \"scaling\": \"min-max\"\n",
    "    },\n",
    "    \"marital-status\": {\n",
    "        \"encode\": \"labeling\",\n",
    "        \"scaling\": \"min-max\"\n",
    "    },\n",
    "    \"skills\": {\n",
    "        \"encode\": \"labeling\", \n",
    "        \"scaling\": \"min-max\"\n",
    "    },\n",
    "    \"relationship\": {\n",
    "        \"encode\": \"labeling\", \n",
    "        \"scaling\": \"min-max\"\n",
    "    },\n",
    "    \"native-country\": {\n",
    "        \"encode\": \"labeling\", \n",
    "        \"scaling\": \"min-max\"\n",
    "    },\n",
    "    \"age\":{\n",
    "        \"scaling\": \"standard\"\n",
    "    },\n",
    "    \"educational-num\":{\n",
    "        \"scaling\": \"min-max\"\n",
    "    },\n",
    "    \"capital-gain\":{\n",
    "        \"scaling\": \"standard\"\n",
    "    },\n",
    "    \"capital-loss\":{\n",
    "        \"scaling\": \"standard\"\n",
    "    },\n",
    "    \"hours-per-week\":{\n",
    "        \"scaling\": \"standard\"\n",
    "    }\n",
    "}\n",
    "\n",
    "Aeq_training.transform_instructions(transform_dictionary)\n",
    "Aeq_test.transform_instructions(transform_dictionary)"
   ]
  },
  {
   "cell_type": "markdown",
   "metadata": {},
   "source": [
    "<h3> Mitigation of Bias with AEQUITAS library </h3>"
   ]
  },
  {
   "cell_type": "markdown",
   "metadata": {},
   "source": [
    "<p> Appliying 'Massaging' to training dataset over the sensitive attribute 'Gender' and class 'XXXXXXXXX'</p>"
   ]
  },
  {
   "cell_type": "code",
   "execution_count": null,
   "metadata": {
    "ExecuteTime": {
     "end_time": "2023-10-15T20:23:28.660081Z",
     "start_time": "2023-10-15T20:23:27.562393Z"
    }
   },
   "outputs": [],
   "source": [
    "Aeq_training_unbiased=Aeq_training.mitigation(method='massaging', sensitive_attribute='gender')\n",
    "Aeq_training_unbiased.statistical_parity(verbose=True)"
   ]
  },
  {
   "cell_type": "markdown",
   "metadata": {},
   "source": [
    "<h3> Train and test a classifier using the modified \"unbiased\" training sample</h3>"
   ]
  },
  {
   "cell_type": "markdown",
   "metadata": {},
   "source": [
    "<p> Define classifier parameters </p>"
   ]
  },
  {
   "cell_type": "code",
   "execution_count": null,
   "metadata": {},
   "outputs": [],
   "source": [
    "classifier_type=\"Decision_Tree\"\n",
    "classifier_params={\n",
    "    \"random_state\":42, \n",
    "    \"min_samples_leaf\":10\n",
    "}\n",
    "class_attribute=Aeq_training.parameters[\"class_attribute\"][\"name\"]"
   ]
  },
  {
   "cell_type": "code",
   "execution_count": null,
   "metadata": {
    "ExecuteTime": {
     "end_time": "2023-10-15T20:23:29.820777Z",
     "start_time": "2023-10-15T20:23:29.586779Z"
    }
   },
   "outputs": [],
   "source": [
    "# transform to numerical values\n",
    "Aeq_training_unbiased.transform()\n",
    "Aeq_test.transform()\n",
    "\n",
    "clf=tools.train_classifier(Aeq_training_unbiased.dataset,class_attribute,classifier_type,classifier_params)\n",
    "predicted_test_sample, _, _, _= tools.test_classifier(clf,Aeq_test.dataset,class_attribute,verbose=True)\n",
    "\n",
    "# transform to text values\n",
    "Aeq_training_unbiased.inverse_transform()\n",
    "Aeq_test.inverse_transform()"
   ]
  },
  {
   "cell_type": "markdown",
   "metadata": {},
   "source": [
    "Define a new Aequitas object for the predicted test sample"
   ]
  },
  {
   "cell_type": "code",
   "execution_count": null,
   "metadata": {
    "ExecuteTime": {
     "end_time": "2023-10-15T20:23:30.977919Z",
     "start_time": "2023-10-15T20:23:30.912705Z"
    }
   },
   "outputs": [],
   "source": [
    "Aeq_predicted_test=Aeq_test.copy()\n",
    "Aeq_predicted_test.set_dataset(predicted_test_sample)\n",
    "Aeq_predicted_test.inverse_transform()"
   ]
  },
  {
   "cell_type": "markdown",
   "metadata": {},
   "source": [
    "Checking the statistical parity and the disparate impact on the predicted test sample"
   ]
  },
  {
   "cell_type": "code",
   "execution_count": null,
   "metadata": {},
   "outputs": [],
   "source": [
    "Aeq_predicted_test.statistical_parity(verbose=True)\n",
    "Aeq_predicted_test.disparate_impact(verbose=True)"
   ]
  },
  {
   "cell_type": "markdown",
   "metadata": {},
   "source": [
    "<p> Computing Equalized Odds on the prediction results</p>"
   ]
  },
  {
   "cell_type": "code",
   "execution_count": null,
   "metadata": {
    "ExecuteTime": {
     "end_time": "2023-10-15T20:23:33.639826Z",
     "start_time": "2023-10-15T20:23:33.460329Z"
    }
   },
   "outputs": [],
   "source": [
    "prediction=np.array(Aeq_predicted_test.dataset[class_attribute])\n",
    "Aeq_test.equal_opportunity(prediction,verbose=True)\n",
    "Aeq_test.equal_odds(prediction,verbose=True)"
   ]
  },
  {
   "cell_type": "markdown",
   "metadata": {},
   "source": [
    "<h5> Update the context engine: Training sample, Modified Training Sample, Test sample </h5"
   ]
  },
  {
   "cell_type": "code",
   "execution_count": null,
   "metadata": {
    "ExecuteTime": {
     "end_time": "2023-10-15T21:02:23.546980Z",
     "start_time": "2023-10-15T21:02:21.465224Z"
    }
   },
   "outputs": [],
   "source": [
    "gw.save_element(Aeq_training.parameters, element_key=\"dataset\", version=\"training\")\n",
    "gw.save_element(Aeq_training_unbiased.parameters, element_key=\"training\", version=\"mitigated\")\n",
    "gw.save_element(Aeq_test.parameters, element_key=\"dataset\", version=\"test\")\n",
    "Aeq_test.display()"
   ]
  },
  {
   "cell_type": "code",
   "execution_count": null,
   "metadata": {},
   "outputs": [],
   "source": []
  }
 ],
 "metadata": {
  "kernelspec": {
   "display_name": "Python 3.11.5 ('aequitas')",
   "language": "python",
   "name": "python3"
  },
  "language_info": {
   "codemirror_mode": {
    "name": "ipython",
    "version": 3
   },
   "file_extension": ".py",
   "mimetype": "text/x-python",
   "name": "python",
   "nbconvert_exporter": "python",
   "pygments_lexer": "ipython3",
   "version": "3.11.5"
  },
  "orig_nbformat": 4,
  "vscode": {
   "interpreter": {
    "hash": "aafc4311810ab362ec8b20f1ad7cefee81be5411161712b32fbd26f1f27127c5"
   }
  }
 },
 "nbformat": 4,
 "nbformat_minor": 2
}
