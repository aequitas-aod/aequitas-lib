{
 "cells": [
  {
   "cell_type": "code",
   "execution_count": null,
   "metadata": {},
   "outputs": [],
   "source": [
    "import sys\n",
    "sys.path.append(\"../\")"
   ]
  },
  {
   "cell_type": "markdown",
   "metadata": {},
   "source": [
    "### Aequitas Connection"
   ]
  },
  {
   "cell_type": "code",
   "execution_count": null,
   "metadata": {},
   "outputs": [],
   "source": [
    "from aequitas.gateway import Authentication\n",
    "from aequitas.gateway import Aequitas\n",
    "\n",
    "auth = Authentication(user='demo@aequitas.eu', password='demo')\n",
    "aeq = Aequitas(aequitas_host='http://portal.aequitas.eu', authentication=auth)"
   ]
  },
  {
   "cell_type": "markdown",
   "metadata": {},
   "source": [
    "### Projects"
   ]
  },
  {
   "cell_type": "code",
   "execution_count": null,
   "metadata": {},
   "outputs": [],
   "source": [
    "aeq.list_project()\n",
    "\"\"\"\n",
    "project-1: Description\n",
    "...\n",
    "\"\"\"\n",
    "\n",
    "project = aeq.get_project('project-1')"
   ]
  },
  {
   "cell_type": "markdown",
   "metadata": {},
   "source": [
    "### Socio-Technical System and Context\n",
    "\n",
    "The socio-technical context is a set of questions and answers describing critical information regarding fairness issues"
   ]
  },
  {
   "cell_type": "code",
   "execution_count": null,
   "metadata": {},
   "outputs": [],
   "source": [
    "project.st_context()\n",
    "\n",
    "\"\"\"\n",
    "Q1: <Question-1> <Answer-1>\n",
    "Q2: <Question-2> <Answer-2>\n",
    "\"\"\""
   ]
  },
  {
   "cell_type": "markdown",
   "metadata": {},
   "source": [
    "### Datasets & Algorithms\n",
    "\n",
    "A project might contain one or several datasets or models to be assessed for fairness and mitigate possible bias sources. Each dataset or model will be assessed independently using an *engine*  "
   ]
  },
  {
   "cell_type": "code",
   "execution_count": null,
   "metadata": {},
   "outputs": [],
   "source": [
    "# Datasets\n",
    "\n",
    "## List Datasets\n",
    "project.list_datasets()\n",
    "\n",
    "\"\"\"\n",
    "dataset-1\n",
    "...\n",
    "\"\"\"\n",
    "\n",
    "## Load Datasets\n",
    "df = project.load_dataset('dataset-1')\n",
    "\n",
    "## Append an engine to the Dataset\n",
    "from aequitas.engine import Aequitas as Engine\n",
    "\n",
    "parameters={\n",
    "}\n",
    "eng_dataset1=Engine(df,parameters)\n",
    "project.dataset('dataset-1').engine(eng_dataset1)\n",
    "\n",
    "## Add local dataset to the project\n",
    "import pandas as pd\n",
    "df_2 = pd.read_csv('local_file')\n",
    "project.add_dataset(df_2, 'dataset-2', {'metadata':{}})"
   ]
  },
  {
   "cell_type": "code",
   "execution_count": null,
   "metadata": {},
   "outputs": [],
   "source": [
    "# Algorithms\n",
    "\n",
    "## List Algorithms\n",
    "project.list_algorithms()\n",
    "\n",
    "\"\"\"\n",
    "algorithm-1\n",
    "...\n",
    "\"\"\"\n",
    "\n",
    "## Load Algorithms\n",
    "model1 = project.load_algorithm('algorithm-1')\n",
    "\n",
    "## Append an engine to the Algorithms\n",
    "from aequitas.engine import Aequitas as Engine\n",
    "\n",
    "parameters={\n",
    "}\n",
    "eng_model1=Engine(model1,parameters)\n",
    "project.algorithm('algorithm-1').engine(eng_model1)\n",
    "\n",
    "## Add local model to the project\n",
    "import pickle\n",
    "with open('model', 'rb') as f:    \n",
    "    model2 = pickle.load(modelfile)\n",
    "\n",
    "project.add_algorithm(model2, 'algorithm-2', {'metadata':{}})"
   ]
  },
  {
   "cell_type": "markdown",
   "metadata": {},
   "source": [
    "### Publish the results in the AEQUITAS Portal\n",
    "\n",
    "If the project exists, the project will be updated with the results. If not, the gateway will return an error."
   ]
  },
  {
   "cell_type": "code",
   "execution_count": null,
   "metadata": {},
   "outputs": [],
   "source": [
    "aeq.publish(project)"
   ]
  }
 ],
 "metadata": {
  "kernelspec": {
   "display_name": ".venv",
   "language": "python",
   "name": "python3"
  },
  "language_info": {
   "codemirror_mode": {
    "name": "ipython",
    "version": 3
   },
   "file_extension": ".py",
   "mimetype": "text/x-python",
   "name": "python",
   "nbconvert_exporter": "python",
   "pygments_lexer": "ipython3",
   "version": "3.10.13"
  }
 },
 "nbformat": 4,
 "nbformat_minor": 2
}
